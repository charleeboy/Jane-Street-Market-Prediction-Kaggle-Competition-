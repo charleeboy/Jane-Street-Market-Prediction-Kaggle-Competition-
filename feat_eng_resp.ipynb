{
 "metadata": {
  "language_info": {
   "codemirror_mode": {
    "name": "ipython",
    "version": 3
   },
   "file_extension": ".py",
   "mimetype": "text/x-python",
   "name": "python",
   "nbconvert_exporter": "python",
   "pygments_lexer": "ipython3",
   "version": "3.8.5-final"
  },
  "orig_nbformat": 2,
  "kernelspec": {
   "name": "python3",
   "display_name": "Python 3"
  }
 },
 "nbformat": 4,
 "nbformat_minor": 2,
 "cells": [
  {
   "cell_type": "code",
   "execution_count": 2,
   "metadata": {},
   "outputs": [],
   "source": [
    "import pandas as pd \n",
    "import seaborn as sns \n",
    "import matplotlib.pyplot as plt \n",
    "from sklearn.ensemble import RandomForestClassifier\n",
    "\n",
    "train = pd.read_csv(r'C:\\Users\\Amash\\Projects\\Strive\\Build_Weeks\\Build_2\\data\\train.csv')"
   ]
  },
  {
   "source": [
    "3. Feature engineering need to be done today so , I think moving averages, and time shifts(daily,weekly and monthly)on the resp, resp1, resp2, resp3, resp4. Maybe calculating volatility would be an idea (I have code on how to do that if help calculating needed) & calculate resp1, resp2, resp3 and resp4 for test.csv \n"
   ],
   "cell_type": "markdown",
   "metadata": {}
  },
  {
   "cell_type": "code",
   "execution_count": 3,
   "metadata": {},
   "outputs": [
    {
     "output_type": "execute_result",
     "data": {
      "text/plain": [
       "   date     weight    resp_1    resp_2    resp_3    resp_4      resp  \\\n",
       "0     0   0.000000  0.009916  0.014079  0.008773  0.001390  0.006270   \n",
       "1     0  16.673515 -0.002828 -0.003226 -0.007319 -0.011114 -0.009792   \n",
       "2     0   0.000000  0.025134  0.027607  0.033406  0.034380  0.023970   \n",
       "3     0   0.000000 -0.004730 -0.003273 -0.000461 -0.000476 -0.003200   \n",
       "4     0   0.138531  0.001252  0.002165 -0.001215 -0.006219 -0.002604   \n",
       "\n",
       "   feature_0  feature_1  feature_2  ...  feature_121  feature_122  \\\n",
       "0          1  -1.872746  -2.191242  ...          NaN     1.168391   \n",
       "1         -1  -1.349537  -1.704709  ...          NaN    -1.178850   \n",
       "2         -1   0.812780  -0.256156  ...          NaN     6.115747   \n",
       "3         -1   1.174378   0.344640  ...          NaN     2.838853   \n",
       "4          1  -3.172026  -3.093182  ...          NaN     0.344850   \n",
       "\n",
       "   feature_123  feature_124  feature_125  feature_126  feature_127  \\\n",
       "0     8.313583     1.782433    14.018213     2.653056    12.600292   \n",
       "1     1.777472    -0.915458     2.831612    -1.417010     2.297459   \n",
       "2     9.667908     5.542871    11.671595     7.281757    10.060014   \n",
       "3     0.499251     3.033732     1.513488     4.397532     1.266037   \n",
       "4     4.101145     0.614252     6.623456     0.800129     5.233243   \n",
       "\n",
       "   feature_128  feature_129  ts_id  \n",
       "0     2.301488    11.445807      0  \n",
       "1    -1.304614     1.898684      1  \n",
       "2     6.638248     9.427299      2  \n",
       "3     3.856384     1.013469      3  \n",
       "4     0.362636     3.926633      4  \n",
       "\n",
       "[5 rows x 138 columns]"
      ],
      "text/html": "<div>\n<style scoped>\n    .dataframe tbody tr th:only-of-type {\n        vertical-align: middle;\n    }\n\n    .dataframe tbody tr th {\n        vertical-align: top;\n    }\n\n    .dataframe thead th {\n        text-align: right;\n    }\n</style>\n<table border=\"1\" class=\"dataframe\">\n  <thead>\n    <tr style=\"text-align: right;\">\n      <th></th>\n      <th>date</th>\n      <th>weight</th>\n      <th>resp_1</th>\n      <th>resp_2</th>\n      <th>resp_3</th>\n      <th>resp_4</th>\n      <th>resp</th>\n      <th>feature_0</th>\n      <th>feature_1</th>\n      <th>feature_2</th>\n      <th>...</th>\n      <th>feature_121</th>\n      <th>feature_122</th>\n      <th>feature_123</th>\n      <th>feature_124</th>\n      <th>feature_125</th>\n      <th>feature_126</th>\n      <th>feature_127</th>\n      <th>feature_128</th>\n      <th>feature_129</th>\n      <th>ts_id</th>\n    </tr>\n  </thead>\n  <tbody>\n    <tr>\n      <th>0</th>\n      <td>0</td>\n      <td>0.000000</td>\n      <td>0.009916</td>\n      <td>0.014079</td>\n      <td>0.008773</td>\n      <td>0.001390</td>\n      <td>0.006270</td>\n      <td>1</td>\n      <td>-1.872746</td>\n      <td>-2.191242</td>\n      <td>...</td>\n      <td>NaN</td>\n      <td>1.168391</td>\n      <td>8.313583</td>\n      <td>1.782433</td>\n      <td>14.018213</td>\n      <td>2.653056</td>\n      <td>12.600292</td>\n      <td>2.301488</td>\n      <td>11.445807</td>\n      <td>0</td>\n    </tr>\n    <tr>\n      <th>1</th>\n      <td>0</td>\n      <td>16.673515</td>\n      <td>-0.002828</td>\n      <td>-0.003226</td>\n      <td>-0.007319</td>\n      <td>-0.011114</td>\n      <td>-0.009792</td>\n      <td>-1</td>\n      <td>-1.349537</td>\n      <td>-1.704709</td>\n      <td>...</td>\n      <td>NaN</td>\n      <td>-1.178850</td>\n      <td>1.777472</td>\n      <td>-0.915458</td>\n      <td>2.831612</td>\n      <td>-1.417010</td>\n      <td>2.297459</td>\n      <td>-1.304614</td>\n      <td>1.898684</td>\n      <td>1</td>\n    </tr>\n    <tr>\n      <th>2</th>\n      <td>0</td>\n      <td>0.000000</td>\n      <td>0.025134</td>\n      <td>0.027607</td>\n      <td>0.033406</td>\n      <td>0.034380</td>\n      <td>0.023970</td>\n      <td>-1</td>\n      <td>0.812780</td>\n      <td>-0.256156</td>\n      <td>...</td>\n      <td>NaN</td>\n      <td>6.115747</td>\n      <td>9.667908</td>\n      <td>5.542871</td>\n      <td>11.671595</td>\n      <td>7.281757</td>\n      <td>10.060014</td>\n      <td>6.638248</td>\n      <td>9.427299</td>\n      <td>2</td>\n    </tr>\n    <tr>\n      <th>3</th>\n      <td>0</td>\n      <td>0.000000</td>\n      <td>-0.004730</td>\n      <td>-0.003273</td>\n      <td>-0.000461</td>\n      <td>-0.000476</td>\n      <td>-0.003200</td>\n      <td>-1</td>\n      <td>1.174378</td>\n      <td>0.344640</td>\n      <td>...</td>\n      <td>NaN</td>\n      <td>2.838853</td>\n      <td>0.499251</td>\n      <td>3.033732</td>\n      <td>1.513488</td>\n      <td>4.397532</td>\n      <td>1.266037</td>\n      <td>3.856384</td>\n      <td>1.013469</td>\n      <td>3</td>\n    </tr>\n    <tr>\n      <th>4</th>\n      <td>0</td>\n      <td>0.138531</td>\n      <td>0.001252</td>\n      <td>0.002165</td>\n      <td>-0.001215</td>\n      <td>-0.006219</td>\n      <td>-0.002604</td>\n      <td>1</td>\n      <td>-3.172026</td>\n      <td>-3.093182</td>\n      <td>...</td>\n      <td>NaN</td>\n      <td>0.344850</td>\n      <td>4.101145</td>\n      <td>0.614252</td>\n      <td>6.623456</td>\n      <td>0.800129</td>\n      <td>5.233243</td>\n      <td>0.362636</td>\n      <td>3.926633</td>\n      <td>4</td>\n    </tr>\n  </tbody>\n</table>\n<p>5 rows × 138 columns</p>\n</div>"
     },
     "metadata": {},
     "execution_count": 3
    }
   ],
   "source": [
    "train.head()"
   ]
  },
  {
   "cell_type": "code",
   "execution_count": 4,
   "metadata": {},
   "outputs": [],
   "source": [
    "resps = train.columns[2:7]"
   ]
  },
  {
   "cell_type": "code",
   "execution_count": 5,
   "metadata": {},
   "outputs": [
    {
     "output_type": "execute_result",
     "data": {
      "text/plain": [
       "Index(['resp_1', 'resp_2', 'resp_3', 'resp_4', 'resp'], dtype='object')"
      ]
     },
     "metadata": {},
     "execution_count": 5
    }
   ],
   "source": [
    "resps"
   ]
  },
  {
   "cell_type": "code",
   "execution_count": 20,
   "metadata": {},
   "outputs": [],
   "source": [
    "def get_lags(df, column):\n",
    "    df[column+'_lag_1'] = df[column].shift(1)\n",
    "    df[column+'_lag_7'] = df[column].shift(7)\n",
    "    df[column+'_lag_30'] = df[column].shift(30)\n",
    "    return df"
   ]
  },
  {
   "cell_type": "code",
   "execution_count": 21,
   "metadata": {},
   "outputs": [],
   "source": [
    "def get_daily_average(df, column):\n",
    "    means = train.groupby('date')['resp'].mean()\n",
    "    df[column+'_daily_mean'] = df['date'].map(means)\n",
    "    return df\n"
   ]
  },
  {
   "cell_type": "code",
   "execution_count": 25,
   "metadata": {},
   "outputs": [],
   "source": [
    "for resp in resps:\n",
    "    get_lags(train, resp)\n",
    "    get_daily_average(train, resp)"
   ]
  },
  {
   "cell_type": "code",
   "execution_count": 12,
   "metadata": {},
   "outputs": [],
   "source": [
    "means = train.groupby('date')['resp'].mean()"
   ]
  },
  {
   "cell_type": "code",
   "execution_count": 13,
   "metadata": {},
   "outputs": [],
   "source": [
    "d = train[['date', 'resp']]"
   ]
  },
  {
   "cell_type": "code",
   "execution_count": 17,
   "metadata": {},
   "outputs": [
    {
     "output_type": "execute_result",
     "data": {
      "text/plain": [
       "0          0.002285\n",
       "1          0.002285\n",
       "2          0.002285\n",
       "3          0.002285\n",
       "4          0.002285\n",
       "             ...   \n",
       "2390486    0.000299\n",
       "2390487    0.000299\n",
       "2390488    0.000299\n",
       "2390489    0.000299\n",
       "2390490    0.000299\n",
       "Name: date, Length: 2390491, dtype: float64"
      ]
     },
     "metadata": {},
     "execution_count": 17
    }
   ],
   "source": [
    "d['date'].map(means)"
   ]
  },
  {
   "cell_type": "code",
   "execution_count": 24,
   "metadata": {},
   "outputs": [
    {
     "output_type": "execute_result",
     "data": {
      "text/plain": [
       "         date      resp  resp_lag_1  resp_lag_7  resp_lag_30  resp_daily_mean\n",
       "0           0  0.006270         NaN         NaN          NaN         0.002285\n",
       "1           0 -0.009792    0.006270         NaN          NaN         0.002285\n",
       "2           0  0.023970   -0.009792         NaN          NaN         0.002285\n",
       "3           0 -0.003200    0.023970         NaN          NaN         0.002285\n",
       "4           0 -0.002604   -0.003200         NaN          NaN         0.002285\n",
       "...       ...       ...         ...         ...          ...              ...\n",
       "2390486   499  0.015396    0.008368    0.004211     0.000877         0.000299\n",
       "2390487   499 -0.004718    0.015396    0.007146    -0.001717         0.000299\n",
       "2390488   499  0.016591   -0.004718   -0.006681     0.006038         0.000299\n",
       "2390489   499 -0.002004    0.016591    0.000428    -0.000095         0.000299\n",
       "2390490   499 -0.001905   -0.002004   -0.005862    -0.001758         0.000299\n",
       "\n",
       "[2390491 rows x 6 columns]"
      ],
      "text/html": "<div>\n<style scoped>\n    .dataframe tbody tr th:only-of-type {\n        vertical-align: middle;\n    }\n\n    .dataframe tbody tr th {\n        vertical-align: top;\n    }\n\n    .dataframe thead th {\n        text-align: right;\n    }\n</style>\n<table border=\"1\" class=\"dataframe\">\n  <thead>\n    <tr style=\"text-align: right;\">\n      <th></th>\n      <th>date</th>\n      <th>resp</th>\n      <th>resp_lag_1</th>\n      <th>resp_lag_7</th>\n      <th>resp_lag_30</th>\n      <th>resp_daily_mean</th>\n    </tr>\n  </thead>\n  <tbody>\n    <tr>\n      <th>0</th>\n      <td>0</td>\n      <td>0.006270</td>\n      <td>NaN</td>\n      <td>NaN</td>\n      <td>NaN</td>\n      <td>0.002285</td>\n    </tr>\n    <tr>\n      <th>1</th>\n      <td>0</td>\n      <td>-0.009792</td>\n      <td>0.006270</td>\n      <td>NaN</td>\n      <td>NaN</td>\n      <td>0.002285</td>\n    </tr>\n    <tr>\n      <th>2</th>\n      <td>0</td>\n      <td>0.023970</td>\n      <td>-0.009792</td>\n      <td>NaN</td>\n      <td>NaN</td>\n      <td>0.002285</td>\n    </tr>\n    <tr>\n      <th>3</th>\n      <td>0</td>\n      <td>-0.003200</td>\n      <td>0.023970</td>\n      <td>NaN</td>\n      <td>NaN</td>\n      <td>0.002285</td>\n    </tr>\n    <tr>\n      <th>4</th>\n      <td>0</td>\n      <td>-0.002604</td>\n      <td>-0.003200</td>\n      <td>NaN</td>\n      <td>NaN</td>\n      <td>0.002285</td>\n    </tr>\n    <tr>\n      <th>...</th>\n      <td>...</td>\n      <td>...</td>\n      <td>...</td>\n      <td>...</td>\n      <td>...</td>\n      <td>...</td>\n    </tr>\n    <tr>\n      <th>2390486</th>\n      <td>499</td>\n      <td>0.015396</td>\n      <td>0.008368</td>\n      <td>0.004211</td>\n      <td>0.000877</td>\n      <td>0.000299</td>\n    </tr>\n    <tr>\n      <th>2390487</th>\n      <td>499</td>\n      <td>-0.004718</td>\n      <td>0.015396</td>\n      <td>0.007146</td>\n      <td>-0.001717</td>\n      <td>0.000299</td>\n    </tr>\n    <tr>\n      <th>2390488</th>\n      <td>499</td>\n      <td>0.016591</td>\n      <td>-0.004718</td>\n      <td>-0.006681</td>\n      <td>0.006038</td>\n      <td>0.000299</td>\n    </tr>\n    <tr>\n      <th>2390489</th>\n      <td>499</td>\n      <td>-0.002004</td>\n      <td>0.016591</td>\n      <td>0.000428</td>\n      <td>-0.000095</td>\n      <td>0.000299</td>\n    </tr>\n    <tr>\n      <th>2390490</th>\n      <td>499</td>\n      <td>-0.001905</td>\n      <td>-0.002004</td>\n      <td>-0.005862</td>\n      <td>-0.001758</td>\n      <td>0.000299</td>\n    </tr>\n  </tbody>\n</table>\n<p>2390491 rows × 6 columns</p>\n</div>"
     },
     "metadata": {},
     "execution_count": 24
    }
   ],
   "source": [
    "get_daily_average(d, 'resp')"
   ]
  },
  {
   "cell_type": "code",
   "execution_count": 23,
   "metadata": {},
   "outputs": [
    {
     "output_type": "execute_result",
     "data": {
      "text/plain": [
       "         date      resp  resp_lag_1  resp_lag_7  resp_lag_30\n",
       "0           0  0.006270         NaN         NaN          NaN\n",
       "1           0 -0.009792    0.006270         NaN          NaN\n",
       "2           0  0.023970   -0.009792         NaN          NaN\n",
       "3           0 -0.003200    0.023970         NaN          NaN\n",
       "4           0 -0.002604   -0.003200         NaN          NaN\n",
       "...       ...       ...         ...         ...          ...\n",
       "2390486   499  0.015396    0.008368    0.004211     0.000877\n",
       "2390487   499 -0.004718    0.015396    0.007146    -0.001717\n",
       "2390488   499  0.016591   -0.004718   -0.006681     0.006038\n",
       "2390489   499 -0.002004    0.016591    0.000428    -0.000095\n",
       "2390490   499 -0.001905   -0.002004   -0.005862    -0.001758\n",
       "\n",
       "[2390491 rows x 5 columns]"
      ],
      "text/html": "<div>\n<style scoped>\n    .dataframe tbody tr th:only-of-type {\n        vertical-align: middle;\n    }\n\n    .dataframe tbody tr th {\n        vertical-align: top;\n    }\n\n    .dataframe thead th {\n        text-align: right;\n    }\n</style>\n<table border=\"1\" class=\"dataframe\">\n  <thead>\n    <tr style=\"text-align: right;\">\n      <th></th>\n      <th>date</th>\n      <th>resp</th>\n      <th>resp_lag_1</th>\n      <th>resp_lag_7</th>\n      <th>resp_lag_30</th>\n    </tr>\n  </thead>\n  <tbody>\n    <tr>\n      <th>0</th>\n      <td>0</td>\n      <td>0.006270</td>\n      <td>NaN</td>\n      <td>NaN</td>\n      <td>NaN</td>\n    </tr>\n    <tr>\n      <th>1</th>\n      <td>0</td>\n      <td>-0.009792</td>\n      <td>0.006270</td>\n      <td>NaN</td>\n      <td>NaN</td>\n    </tr>\n    <tr>\n      <th>2</th>\n      <td>0</td>\n      <td>0.023970</td>\n      <td>-0.009792</td>\n      <td>NaN</td>\n      <td>NaN</td>\n    </tr>\n    <tr>\n      <th>3</th>\n      <td>0</td>\n      <td>-0.003200</td>\n      <td>0.023970</td>\n      <td>NaN</td>\n      <td>NaN</td>\n    </tr>\n    <tr>\n      <th>4</th>\n      <td>0</td>\n      <td>-0.002604</td>\n      <td>-0.003200</td>\n      <td>NaN</td>\n      <td>NaN</td>\n    </tr>\n    <tr>\n      <th>...</th>\n      <td>...</td>\n      <td>...</td>\n      <td>...</td>\n      <td>...</td>\n      <td>...</td>\n    </tr>\n    <tr>\n      <th>2390486</th>\n      <td>499</td>\n      <td>0.015396</td>\n      <td>0.008368</td>\n      <td>0.004211</td>\n      <td>0.000877</td>\n    </tr>\n    <tr>\n      <th>2390487</th>\n      <td>499</td>\n      <td>-0.004718</td>\n      <td>0.015396</td>\n      <td>0.007146</td>\n      <td>-0.001717</td>\n    </tr>\n    <tr>\n      <th>2390488</th>\n      <td>499</td>\n      <td>0.016591</td>\n      <td>-0.004718</td>\n      <td>-0.006681</td>\n      <td>0.006038</td>\n    </tr>\n    <tr>\n      <th>2390489</th>\n      <td>499</td>\n      <td>-0.002004</td>\n      <td>0.016591</td>\n      <td>0.000428</td>\n      <td>-0.000095</td>\n    </tr>\n    <tr>\n      <th>2390490</th>\n      <td>499</td>\n      <td>-0.001905</td>\n      <td>-0.002004</td>\n      <td>-0.005862</td>\n      <td>-0.001758</td>\n    </tr>\n  </tbody>\n</table>\n<p>2390491 rows × 5 columns</p>\n</div>"
     },
     "metadata": {},
     "execution_count": 23
    }
   ],
   "source": [
    "d"
   ]
  },
  {
   "cell_type": "code",
   "execution_count": 26,
   "metadata": {},
   "outputs": [
    {
     "output_type": "execute_result",
     "data": {
      "text/plain": [
       "         date     weight    resp_1    resp_2    resp_3    resp_4      resp  \\\n",
       "0           0   0.000000  0.009916  0.014079  0.008773  0.001390  0.006270   \n",
       "1           0  16.673515 -0.002828 -0.003226 -0.007319 -0.011114 -0.009792   \n",
       "2           0   0.000000  0.025134  0.027607  0.033406  0.034380  0.023970   \n",
       "3           0   0.000000 -0.004730 -0.003273 -0.000461 -0.000476 -0.003200   \n",
       "4           0   0.138531  0.001252  0.002165 -0.001215 -0.006219 -0.002604   \n",
       "...       ...        ...       ...       ...       ...       ...       ...   \n",
       "2390486   499   0.000000  0.000142  0.000142  0.005829  0.020342  0.015396   \n",
       "2390487   499   0.000000  0.000012  0.000012 -0.000935 -0.006326 -0.004718   \n",
       "2390488   499   0.000000  0.000499  0.000499  0.007605  0.024907  0.016591   \n",
       "2390489   499   0.283405 -0.000156 -0.000156 -0.001375 -0.003702 -0.002004   \n",
       "2390490   499   0.000000 -0.001855 -0.001855 -0.001194 -0.000864 -0.001905   \n",
       "\n",
       "         feature_0  feature_1  feature_2  ...  resp_3_lag_30  \\\n",
       "0                1  -1.872746  -2.191242  ...            NaN   \n",
       "1               -1  -1.349537  -1.704709  ...            NaN   \n",
       "2               -1   0.812780  -0.256156  ...            NaN   \n",
       "3               -1   1.174378   0.344640  ...            NaN   \n",
       "4                1  -3.172026  -3.093182  ...            NaN   \n",
       "...            ...        ...        ...  ...            ...   \n",
       "2390486          1  -1.649365  -1.169996  ...       0.003208   \n",
       "2390487          1   2.432943   5.284504  ...      -0.000020   \n",
       "2390488          1  -0.622475  -0.963682  ...       0.001003   \n",
       "2390489         -1  -1.463757  -1.107228  ...       0.001806   \n",
       "2390490         -1  -1.817184  -1.131577  ...      -0.002145   \n",
       "\n",
       "         resp_3_daily_mean  resp_4_lag_1  resp_4_lag_7  resp_4_lag_30  \\\n",
       "0                 0.002285           NaN           NaN            NaN   \n",
       "1                 0.002285      0.001390           NaN            NaN   \n",
       "2                 0.002285     -0.011114           NaN            NaN   \n",
       "3                 0.002285      0.034380           NaN            NaN   \n",
       "4                 0.002285     -0.000476           NaN            NaN   \n",
       "...                    ...           ...           ...            ...   \n",
       "2390486           0.000299      0.011295      0.007429       0.001993   \n",
       "2390487           0.000299      0.020342      0.005168      -0.002522   \n",
       "2390488           0.000299     -0.006326     -0.012472       0.005674   \n",
       "2390489           0.000299      0.024907     -0.000198       0.001659   \n",
       "2390490           0.000299     -0.003702     -0.008861      -0.004081   \n",
       "\n",
       "         resp_4_daily_mean  resp_lag_1  resp_lag_7  resp_lag_30  \\\n",
       "0                 0.002285         NaN         NaN          NaN   \n",
       "1                 0.002285    0.006270         NaN          NaN   \n",
       "2                 0.002285   -0.009792         NaN          NaN   \n",
       "3                 0.002285    0.023970         NaN          NaN   \n",
       "4                 0.002285   -0.003200         NaN          NaN   \n",
       "...                    ...         ...         ...          ...   \n",
       "2390486           0.000299    0.008368    0.004211     0.000877   \n",
       "2390487           0.000299    0.015396    0.007146    -0.001717   \n",
       "2390488           0.000299   -0.004718   -0.006681     0.006038   \n",
       "2390489           0.000299    0.016591    0.000428    -0.000095   \n",
       "2390490           0.000299   -0.002004   -0.005862    -0.001758   \n",
       "\n",
       "         resp_daily_mean  \n",
       "0               0.002285  \n",
       "1               0.002285  \n",
       "2               0.002285  \n",
       "3               0.002285  \n",
       "4               0.002285  \n",
       "...                  ...  \n",
       "2390486         0.000299  \n",
       "2390487         0.000299  \n",
       "2390488         0.000299  \n",
       "2390489         0.000299  \n",
       "2390490         0.000299  \n",
       "\n",
       "[2390491 rows x 158 columns]"
      ],
      "text/html": "<div>\n<style scoped>\n    .dataframe tbody tr th:only-of-type {\n        vertical-align: middle;\n    }\n\n    .dataframe tbody tr th {\n        vertical-align: top;\n    }\n\n    .dataframe thead th {\n        text-align: right;\n    }\n</style>\n<table border=\"1\" class=\"dataframe\">\n  <thead>\n    <tr style=\"text-align: right;\">\n      <th></th>\n      <th>date</th>\n      <th>weight</th>\n      <th>resp_1</th>\n      <th>resp_2</th>\n      <th>resp_3</th>\n      <th>resp_4</th>\n      <th>resp</th>\n      <th>feature_0</th>\n      <th>feature_1</th>\n      <th>feature_2</th>\n      <th>...</th>\n      <th>resp_3_lag_30</th>\n      <th>resp_3_daily_mean</th>\n      <th>resp_4_lag_1</th>\n      <th>resp_4_lag_7</th>\n      <th>resp_4_lag_30</th>\n      <th>resp_4_daily_mean</th>\n      <th>resp_lag_1</th>\n      <th>resp_lag_7</th>\n      <th>resp_lag_30</th>\n      <th>resp_daily_mean</th>\n    </tr>\n  </thead>\n  <tbody>\n    <tr>\n      <th>0</th>\n      <td>0</td>\n      <td>0.000000</td>\n      <td>0.009916</td>\n      <td>0.014079</td>\n      <td>0.008773</td>\n      <td>0.001390</td>\n      <td>0.006270</td>\n      <td>1</td>\n      <td>-1.872746</td>\n      <td>-2.191242</td>\n      <td>...</td>\n      <td>NaN</td>\n      <td>0.002285</td>\n      <td>NaN</td>\n      <td>NaN</td>\n      <td>NaN</td>\n      <td>0.002285</td>\n      <td>NaN</td>\n      <td>NaN</td>\n      <td>NaN</td>\n      <td>0.002285</td>\n    </tr>\n    <tr>\n      <th>1</th>\n      <td>0</td>\n      <td>16.673515</td>\n      <td>-0.002828</td>\n      <td>-0.003226</td>\n      <td>-0.007319</td>\n      <td>-0.011114</td>\n      <td>-0.009792</td>\n      <td>-1</td>\n      <td>-1.349537</td>\n      <td>-1.704709</td>\n      <td>...</td>\n      <td>NaN</td>\n      <td>0.002285</td>\n      <td>0.001390</td>\n      <td>NaN</td>\n      <td>NaN</td>\n      <td>0.002285</td>\n      <td>0.006270</td>\n      <td>NaN</td>\n      <td>NaN</td>\n      <td>0.002285</td>\n    </tr>\n    <tr>\n      <th>2</th>\n      <td>0</td>\n      <td>0.000000</td>\n      <td>0.025134</td>\n      <td>0.027607</td>\n      <td>0.033406</td>\n      <td>0.034380</td>\n      <td>0.023970</td>\n      <td>-1</td>\n      <td>0.812780</td>\n      <td>-0.256156</td>\n      <td>...</td>\n      <td>NaN</td>\n      <td>0.002285</td>\n      <td>-0.011114</td>\n      <td>NaN</td>\n      <td>NaN</td>\n      <td>0.002285</td>\n      <td>-0.009792</td>\n      <td>NaN</td>\n      <td>NaN</td>\n      <td>0.002285</td>\n    </tr>\n    <tr>\n      <th>3</th>\n      <td>0</td>\n      <td>0.000000</td>\n      <td>-0.004730</td>\n      <td>-0.003273</td>\n      <td>-0.000461</td>\n      <td>-0.000476</td>\n      <td>-0.003200</td>\n      <td>-1</td>\n      <td>1.174378</td>\n      <td>0.344640</td>\n      <td>...</td>\n      <td>NaN</td>\n      <td>0.002285</td>\n      <td>0.034380</td>\n      <td>NaN</td>\n      <td>NaN</td>\n      <td>0.002285</td>\n      <td>0.023970</td>\n      <td>NaN</td>\n      <td>NaN</td>\n      <td>0.002285</td>\n    </tr>\n    <tr>\n      <th>4</th>\n      <td>0</td>\n      <td>0.138531</td>\n      <td>0.001252</td>\n      <td>0.002165</td>\n      <td>-0.001215</td>\n      <td>-0.006219</td>\n      <td>-0.002604</td>\n      <td>1</td>\n      <td>-3.172026</td>\n      <td>-3.093182</td>\n      <td>...</td>\n      <td>NaN</td>\n      <td>0.002285</td>\n      <td>-0.000476</td>\n      <td>NaN</td>\n      <td>NaN</td>\n      <td>0.002285</td>\n      <td>-0.003200</td>\n      <td>NaN</td>\n      <td>NaN</td>\n      <td>0.002285</td>\n    </tr>\n    <tr>\n      <th>...</th>\n      <td>...</td>\n      <td>...</td>\n      <td>...</td>\n      <td>...</td>\n      <td>...</td>\n      <td>...</td>\n      <td>...</td>\n      <td>...</td>\n      <td>...</td>\n      <td>...</td>\n      <td>...</td>\n      <td>...</td>\n      <td>...</td>\n      <td>...</td>\n      <td>...</td>\n      <td>...</td>\n      <td>...</td>\n      <td>...</td>\n      <td>...</td>\n      <td>...</td>\n      <td>...</td>\n    </tr>\n    <tr>\n      <th>2390486</th>\n      <td>499</td>\n      <td>0.000000</td>\n      <td>0.000142</td>\n      <td>0.000142</td>\n      <td>0.005829</td>\n      <td>0.020342</td>\n      <td>0.015396</td>\n      <td>1</td>\n      <td>-1.649365</td>\n      <td>-1.169996</td>\n      <td>...</td>\n      <td>0.003208</td>\n      <td>0.000299</td>\n      <td>0.011295</td>\n      <td>0.007429</td>\n      <td>0.001993</td>\n      <td>0.000299</td>\n      <td>0.008368</td>\n      <td>0.004211</td>\n      <td>0.000877</td>\n      <td>0.000299</td>\n    </tr>\n    <tr>\n      <th>2390487</th>\n      <td>499</td>\n      <td>0.000000</td>\n      <td>0.000012</td>\n      <td>0.000012</td>\n      <td>-0.000935</td>\n      <td>-0.006326</td>\n      <td>-0.004718</td>\n      <td>1</td>\n      <td>2.432943</td>\n      <td>5.284504</td>\n      <td>...</td>\n      <td>-0.000020</td>\n      <td>0.000299</td>\n      <td>0.020342</td>\n      <td>0.005168</td>\n      <td>-0.002522</td>\n      <td>0.000299</td>\n      <td>0.015396</td>\n      <td>0.007146</td>\n      <td>-0.001717</td>\n      <td>0.000299</td>\n    </tr>\n    <tr>\n      <th>2390488</th>\n      <td>499</td>\n      <td>0.000000</td>\n      <td>0.000499</td>\n      <td>0.000499</td>\n      <td>0.007605</td>\n      <td>0.024907</td>\n      <td>0.016591</td>\n      <td>1</td>\n      <td>-0.622475</td>\n      <td>-0.963682</td>\n      <td>...</td>\n      <td>0.001003</td>\n      <td>0.000299</td>\n      <td>-0.006326</td>\n      <td>-0.012472</td>\n      <td>0.005674</td>\n      <td>0.000299</td>\n      <td>-0.004718</td>\n      <td>-0.006681</td>\n      <td>0.006038</td>\n      <td>0.000299</td>\n    </tr>\n    <tr>\n      <th>2390489</th>\n      <td>499</td>\n      <td>0.283405</td>\n      <td>-0.000156</td>\n      <td>-0.000156</td>\n      <td>-0.001375</td>\n      <td>-0.003702</td>\n      <td>-0.002004</td>\n      <td>-1</td>\n      <td>-1.463757</td>\n      <td>-1.107228</td>\n      <td>...</td>\n      <td>0.001806</td>\n      <td>0.000299</td>\n      <td>0.024907</td>\n      <td>-0.000198</td>\n      <td>0.001659</td>\n      <td>0.000299</td>\n      <td>0.016591</td>\n      <td>0.000428</td>\n      <td>-0.000095</td>\n      <td>0.000299</td>\n    </tr>\n    <tr>\n      <th>2390490</th>\n      <td>499</td>\n      <td>0.000000</td>\n      <td>-0.001855</td>\n      <td>-0.001855</td>\n      <td>-0.001194</td>\n      <td>-0.000864</td>\n      <td>-0.001905</td>\n      <td>-1</td>\n      <td>-1.817184</td>\n      <td>-1.131577</td>\n      <td>...</td>\n      <td>-0.002145</td>\n      <td>0.000299</td>\n      <td>-0.003702</td>\n      <td>-0.008861</td>\n      <td>-0.004081</td>\n      <td>0.000299</td>\n      <td>-0.002004</td>\n      <td>-0.005862</td>\n      <td>-0.001758</td>\n      <td>0.000299</td>\n    </tr>\n  </tbody>\n</table>\n<p>2390491 rows × 158 columns</p>\n</div>"
     },
     "metadata": {},
     "execution_count": 26
    }
   ],
   "source": [
    "train"
   ]
  },
  {
   "cell_type": "code",
   "execution_count": 27,
   "metadata": {},
   "outputs": [
    {
     "output_type": "execute_result",
     "data": {
      "text/plain": [
       "Index(['date', 'weight', 'resp_1', 'resp_2', 'resp_3', 'resp_4', 'resp',\n",
       "       'feature_0', 'feature_1', 'feature_2',\n",
       "       ...\n",
       "       'resp_3_lag_30', 'resp_3_daily_mean', 'resp_4_lag_1', 'resp_4_lag_7',\n",
       "       'resp_4_lag_30', 'resp_4_daily_mean', 'resp_lag_1', 'resp_lag_7',\n",
       "       'resp_lag_30', 'resp_daily_mean'],\n",
       "      dtype='object', length=158)"
      ]
     },
     "metadata": {},
     "execution_count": 27
    }
   ],
   "source": [
    "train.columns"
   ]
  },
  {
   "cell_type": "code",
   "execution_count": 36,
   "metadata": {},
   "outputs": [],
   "source": [
    "resp_lag_avg = train.iloc[:,-20:]"
   ]
  },
  {
   "cell_type": "code",
   "execution_count": 44,
   "metadata": {},
   "outputs": [],
   "source": [
    "resp_lag_avg.to_csv('resp_lag_avg.csv', index=False)"
   ]
  },
  {
   "cell_type": "code",
   "execution_count": 45,
   "metadata": {},
   "outputs": [],
   "source": [
    "d = pd.read_csv('resp_lag_avg.csv')"
   ]
  },
  {
   "cell_type": "code",
   "execution_count": 46,
   "metadata": {},
   "outputs": [
    {
     "output_type": "execute_result",
     "data": {
      "text/plain": [
       "         resp_1_lag_1  resp_1_lag_7  resp_1_lag_30  resp_1_daily_mean  \\\n",
       "0                 NaN           NaN            NaN           0.002285   \n",
       "1            0.009916           NaN            NaN           0.002285   \n",
       "2           -0.002828           NaN            NaN           0.002285   \n",
       "3            0.025134           NaN            NaN           0.002285   \n",
       "4           -0.004730           NaN            NaN           0.002285   \n",
       "...               ...           ...            ...                ...   \n",
       "2390486      0.000337      0.000026       0.002078           0.000299   \n",
       "2390487      0.000142      0.000272       0.000611           0.000299   \n",
       "2390488      0.000012      0.000298       0.000450           0.000299   \n",
       "2390489      0.000499      0.000083       0.000778           0.000299   \n",
       "2390490     -0.000156     -0.000072       0.000243           0.000299   \n",
       "\n",
       "         resp_2_lag_1  resp_2_lag_7  resp_2_lag_30  resp_2_daily_mean  \\\n",
       "0                 NaN           NaN            NaN           0.002285   \n",
       "1            0.014079           NaN            NaN           0.002285   \n",
       "2           -0.003226           NaN            NaN           0.002285   \n",
       "3            0.027607           NaN            NaN           0.002285   \n",
       "4           -0.003273           NaN            NaN           0.002285   \n",
       "...               ...           ...            ...                ...   \n",
       "2390486      0.000337      0.000026       0.002078           0.000299   \n",
       "2390487      0.000142      0.000272       0.000611           0.000299   \n",
       "2390488      0.000012      0.000298       0.000450           0.000299   \n",
       "2390489      0.000499      0.000083       0.000778           0.000299   \n",
       "2390490     -0.000156     -0.000072       0.000243           0.000299   \n",
       "\n",
       "         resp_3_lag_1  resp_3_lag_7  resp_3_lag_30  resp_3_daily_mean  \\\n",
       "0                 NaN           NaN            NaN           0.002285   \n",
       "1            0.008773           NaN            NaN           0.002285   \n",
       "2           -0.007319           NaN            NaN           0.002285   \n",
       "3            0.033406           NaN            NaN           0.002285   \n",
       "4           -0.000461           NaN            NaN           0.002285   \n",
       "...               ...           ...            ...                ...   \n",
       "2390486      0.003490      0.001270       0.003208           0.000299   \n",
       "2390487      0.005829      0.000798      -0.000020           0.000299   \n",
       "2390488     -0.000935     -0.005393       0.001003           0.000299   \n",
       "2390489      0.007605     -0.000720       0.001806           0.000299   \n",
       "2390490     -0.001375     -0.002696      -0.002145           0.000299   \n",
       "\n",
       "         resp_4_lag_1  resp_4_lag_7  resp_4_lag_30  resp_4_daily_mean  \\\n",
       "0                 NaN           NaN            NaN           0.002285   \n",
       "1            0.001390           NaN            NaN           0.002285   \n",
       "2           -0.011114           NaN            NaN           0.002285   \n",
       "3            0.034380           NaN            NaN           0.002285   \n",
       "4           -0.000476           NaN            NaN           0.002285   \n",
       "...               ...           ...            ...                ...   \n",
       "2390486      0.011295      0.007429       0.001993           0.000299   \n",
       "2390487      0.020342      0.005168      -0.002522           0.000299   \n",
       "2390488     -0.006326     -0.012472       0.005674           0.000299   \n",
       "2390489      0.024907     -0.000198       0.001659           0.000299   \n",
       "2390490     -0.003702     -0.008861      -0.004081           0.000299   \n",
       "\n",
       "         resp_lag_1  resp_lag_7  resp_lag_30  resp_daily_mean  \n",
       "0               NaN         NaN          NaN         0.002285  \n",
       "1          0.006270         NaN          NaN         0.002285  \n",
       "2         -0.009792         NaN          NaN         0.002285  \n",
       "3          0.023970         NaN          NaN         0.002285  \n",
       "4         -0.003200         NaN          NaN         0.002285  \n",
       "...             ...         ...          ...              ...  \n",
       "2390486    0.008368    0.004211     0.000877         0.000299  \n",
       "2390487    0.015396    0.007146    -0.001717         0.000299  \n",
       "2390488   -0.004718   -0.006681     0.006038         0.000299  \n",
       "2390489    0.016591    0.000428    -0.000095         0.000299  \n",
       "2390490   -0.002004   -0.005862    -0.001758         0.000299  \n",
       "\n",
       "[2390491 rows x 20 columns]"
      ],
      "text/html": "<div>\n<style scoped>\n    .dataframe tbody tr th:only-of-type {\n        vertical-align: middle;\n    }\n\n    .dataframe tbody tr th {\n        vertical-align: top;\n    }\n\n    .dataframe thead th {\n        text-align: right;\n    }\n</style>\n<table border=\"1\" class=\"dataframe\">\n  <thead>\n    <tr style=\"text-align: right;\">\n      <th></th>\n      <th>resp_1_lag_1</th>\n      <th>resp_1_lag_7</th>\n      <th>resp_1_lag_30</th>\n      <th>resp_1_daily_mean</th>\n      <th>resp_2_lag_1</th>\n      <th>resp_2_lag_7</th>\n      <th>resp_2_lag_30</th>\n      <th>resp_2_daily_mean</th>\n      <th>resp_3_lag_1</th>\n      <th>resp_3_lag_7</th>\n      <th>resp_3_lag_30</th>\n      <th>resp_3_daily_mean</th>\n      <th>resp_4_lag_1</th>\n      <th>resp_4_lag_7</th>\n      <th>resp_4_lag_30</th>\n      <th>resp_4_daily_mean</th>\n      <th>resp_lag_1</th>\n      <th>resp_lag_7</th>\n      <th>resp_lag_30</th>\n      <th>resp_daily_mean</th>\n    </tr>\n  </thead>\n  <tbody>\n    <tr>\n      <th>0</th>\n      <td>NaN</td>\n      <td>NaN</td>\n      <td>NaN</td>\n      <td>0.002285</td>\n      <td>NaN</td>\n      <td>NaN</td>\n      <td>NaN</td>\n      <td>0.002285</td>\n      <td>NaN</td>\n      <td>NaN</td>\n      <td>NaN</td>\n      <td>0.002285</td>\n      <td>NaN</td>\n      <td>NaN</td>\n      <td>NaN</td>\n      <td>0.002285</td>\n      <td>NaN</td>\n      <td>NaN</td>\n      <td>NaN</td>\n      <td>0.002285</td>\n    </tr>\n    <tr>\n      <th>1</th>\n      <td>0.009916</td>\n      <td>NaN</td>\n      <td>NaN</td>\n      <td>0.002285</td>\n      <td>0.014079</td>\n      <td>NaN</td>\n      <td>NaN</td>\n      <td>0.002285</td>\n      <td>0.008773</td>\n      <td>NaN</td>\n      <td>NaN</td>\n      <td>0.002285</td>\n      <td>0.001390</td>\n      <td>NaN</td>\n      <td>NaN</td>\n      <td>0.002285</td>\n      <td>0.006270</td>\n      <td>NaN</td>\n      <td>NaN</td>\n      <td>0.002285</td>\n    </tr>\n    <tr>\n      <th>2</th>\n      <td>-0.002828</td>\n      <td>NaN</td>\n      <td>NaN</td>\n      <td>0.002285</td>\n      <td>-0.003226</td>\n      <td>NaN</td>\n      <td>NaN</td>\n      <td>0.002285</td>\n      <td>-0.007319</td>\n      <td>NaN</td>\n      <td>NaN</td>\n      <td>0.002285</td>\n      <td>-0.011114</td>\n      <td>NaN</td>\n      <td>NaN</td>\n      <td>0.002285</td>\n      <td>-0.009792</td>\n      <td>NaN</td>\n      <td>NaN</td>\n      <td>0.002285</td>\n    </tr>\n    <tr>\n      <th>3</th>\n      <td>0.025134</td>\n      <td>NaN</td>\n      <td>NaN</td>\n      <td>0.002285</td>\n      <td>0.027607</td>\n      <td>NaN</td>\n      <td>NaN</td>\n      <td>0.002285</td>\n      <td>0.033406</td>\n      <td>NaN</td>\n      <td>NaN</td>\n      <td>0.002285</td>\n      <td>0.034380</td>\n      <td>NaN</td>\n      <td>NaN</td>\n      <td>0.002285</td>\n      <td>0.023970</td>\n      <td>NaN</td>\n      <td>NaN</td>\n      <td>0.002285</td>\n    </tr>\n    <tr>\n      <th>4</th>\n      <td>-0.004730</td>\n      <td>NaN</td>\n      <td>NaN</td>\n      <td>0.002285</td>\n      <td>-0.003273</td>\n      <td>NaN</td>\n      <td>NaN</td>\n      <td>0.002285</td>\n      <td>-0.000461</td>\n      <td>NaN</td>\n      <td>NaN</td>\n      <td>0.002285</td>\n      <td>-0.000476</td>\n      <td>NaN</td>\n      <td>NaN</td>\n      <td>0.002285</td>\n      <td>-0.003200</td>\n      <td>NaN</td>\n      <td>NaN</td>\n      <td>0.002285</td>\n    </tr>\n    <tr>\n      <th>...</th>\n      <td>...</td>\n      <td>...</td>\n      <td>...</td>\n      <td>...</td>\n      <td>...</td>\n      <td>...</td>\n      <td>...</td>\n      <td>...</td>\n      <td>...</td>\n      <td>...</td>\n      <td>...</td>\n      <td>...</td>\n      <td>...</td>\n      <td>...</td>\n      <td>...</td>\n      <td>...</td>\n      <td>...</td>\n      <td>...</td>\n      <td>...</td>\n      <td>...</td>\n    </tr>\n    <tr>\n      <th>2390486</th>\n      <td>0.000337</td>\n      <td>0.000026</td>\n      <td>0.002078</td>\n      <td>0.000299</td>\n      <td>0.000337</td>\n      <td>0.000026</td>\n      <td>0.002078</td>\n      <td>0.000299</td>\n      <td>0.003490</td>\n      <td>0.001270</td>\n      <td>0.003208</td>\n      <td>0.000299</td>\n      <td>0.011295</td>\n      <td>0.007429</td>\n      <td>0.001993</td>\n      <td>0.000299</td>\n      <td>0.008368</td>\n      <td>0.004211</td>\n      <td>0.000877</td>\n      <td>0.000299</td>\n    </tr>\n    <tr>\n      <th>2390487</th>\n      <td>0.000142</td>\n      <td>0.000272</td>\n      <td>0.000611</td>\n      <td>0.000299</td>\n      <td>0.000142</td>\n      <td>0.000272</td>\n      <td>0.000611</td>\n      <td>0.000299</td>\n      <td>0.005829</td>\n      <td>0.000798</td>\n      <td>-0.000020</td>\n      <td>0.000299</td>\n      <td>0.020342</td>\n      <td>0.005168</td>\n      <td>-0.002522</td>\n      <td>0.000299</td>\n      <td>0.015396</td>\n      <td>0.007146</td>\n      <td>-0.001717</td>\n      <td>0.000299</td>\n    </tr>\n    <tr>\n      <th>2390488</th>\n      <td>0.000012</td>\n      <td>0.000298</td>\n      <td>0.000450</td>\n      <td>0.000299</td>\n      <td>0.000012</td>\n      <td>0.000298</td>\n      <td>0.000450</td>\n      <td>0.000299</td>\n      <td>-0.000935</td>\n      <td>-0.005393</td>\n      <td>0.001003</td>\n      <td>0.000299</td>\n      <td>-0.006326</td>\n      <td>-0.012472</td>\n      <td>0.005674</td>\n      <td>0.000299</td>\n      <td>-0.004718</td>\n      <td>-0.006681</td>\n      <td>0.006038</td>\n      <td>0.000299</td>\n    </tr>\n    <tr>\n      <th>2390489</th>\n      <td>0.000499</td>\n      <td>0.000083</td>\n      <td>0.000778</td>\n      <td>0.000299</td>\n      <td>0.000499</td>\n      <td>0.000083</td>\n      <td>0.000778</td>\n      <td>0.000299</td>\n      <td>0.007605</td>\n      <td>-0.000720</td>\n      <td>0.001806</td>\n      <td>0.000299</td>\n      <td>0.024907</td>\n      <td>-0.000198</td>\n      <td>0.001659</td>\n      <td>0.000299</td>\n      <td>0.016591</td>\n      <td>0.000428</td>\n      <td>-0.000095</td>\n      <td>0.000299</td>\n    </tr>\n    <tr>\n      <th>2390490</th>\n      <td>-0.000156</td>\n      <td>-0.000072</td>\n      <td>0.000243</td>\n      <td>0.000299</td>\n      <td>-0.000156</td>\n      <td>-0.000072</td>\n      <td>0.000243</td>\n      <td>0.000299</td>\n      <td>-0.001375</td>\n      <td>-0.002696</td>\n      <td>-0.002145</td>\n      <td>0.000299</td>\n      <td>-0.003702</td>\n      <td>-0.008861</td>\n      <td>-0.004081</td>\n      <td>0.000299</td>\n      <td>-0.002004</td>\n      <td>-0.005862</td>\n      <td>-0.001758</td>\n      <td>0.000299</td>\n    </tr>\n  </tbody>\n</table>\n<p>2390491 rows × 20 columns</p>\n</div>"
     },
     "metadata": {},
     "execution_count": 46
    }
   ],
   "source": [
    "d"
   ]
  },
  {
   "cell_type": "code",
   "execution_count": null,
   "metadata": {},
   "outputs": [],
   "source": []
  }
 ]
}