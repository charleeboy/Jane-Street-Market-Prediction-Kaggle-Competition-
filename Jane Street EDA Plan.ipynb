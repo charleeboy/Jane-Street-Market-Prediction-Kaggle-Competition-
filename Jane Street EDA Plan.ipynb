{
 "cells": [
  {
   "cell_type": "markdown",
   "metadata": {},
   "source": [
    "# Jane Street EDA Plan"
   ]
  },
  {
   "cell_type": "markdown",
   "metadata": {},
   "source": [
    "## 1.1 Objective\n",
    "- Are aim is to predict the resp\n",
    "- We need to work out what features have an impact on resp and keep them\n",
    "- We can assume action target is 1 when resp > 0"
   ]
  },
  {
   "cell_type": "markdown",
   "metadata": {
    "ExecuteTime": {
     "end_time": "2021-02-16T10:31:33.941732Z",
     "start_time": "2021-02-16T10:31:33.936989Z"
    }
   },
   "source": [
    "## 2.3 Date Analysis (Data = Train.csv) - Oluseyi\n",
    "\n",
    "- Calculate the number of days / years data we have in test and train data sets\n",
    "- *Tip* Trading floors work 250 days\n",
    "- Calculate the number of trades (rows in test data) for each day - display in a plot or table\n",
    "- Calaulate the max and min number of trades done for the whole period and what days they occured on"
   ]
  },
  {
   "cell_type": "markdown",
   "metadata": {},
   "source": [
    "## 2.4 Null Analysis - Charles Degraft-Johnson\n",
    "- Calculate the count of null features\n",
    "- Look for patterns i.e - do any features have the save number of nulls if so group them together \n",
    "and save the values to a csv we can use it to help us categorizing feature together with (features.csv)\n",
    "- Show nulls on a plot\n",
    "- Plot a correlation map of all the features that contain nulls with resp,resp_1,resp_2,resp_3,resp_4 and weight\n",
    "- drop features with more than 10% null values with little correlation to resp,resp_1,resp_2,resp_3,resp_4"
   ]
  },
  {
   "cell_type": "markdown",
   "metadata": {},
   "source": [
    "## 2.5 The distribution of feature values - Gyasi Sutton\n",
    "- Plot distribution graphs for features\n",
    "- Use this data to conclude how null values can be filled"
   ]
  },
  {
   "cell_type": "markdown",
   "metadata": {},
   "source": [
    "## 2.6 Feature values over time - Ibrahim Animashaun\n",
    "- plot how feature change over time (sum,average) etc"
   ]
  },
  {
   "cell_type": "markdown",
   "metadata": {},
   "source": [
    "## 2.7 Feature correlation - Charles Degraft-Johnson\n",
    "- Plot correlation of unknown features only\n",
    "- Plot correlation  All Features and resp \n",
    "- Plot correlation  Features and weight \n",
    "- Plot any clusters found in there own plot\n",
    "\n",
    "- Use heatmaps and pairplots\n"
   ]
  },
  {
   "cell_type": "markdown",
   "metadata": {},
   "source": [
    "## 2.8 Outliers - Gyasi Sutton\n",
    "- Look at all the features mean average values\n",
    "- Look at all the features Max Values\n",
    "- Look at all the fetaure Min values\n",
    "- Plot Box Plots\n",
    "- Distribution\n",
    "- Decide on threshold for removing outliers"
   ]
  },
  {
   "cell_type": "markdown",
   "metadata": {},
   "source": [
    "## 2.9 Weight feature investigation Ibrahim Animashaun\n",
    " - proportion of zero weights to non zero weights\n",
    " - Distibution of values\n",
    " - Outliers"
   ]
  },
  {
   "cell_type": "markdown",
   "metadata": {},
   "source": [
    "## 3.0 resp columns analysis (resp_1', 'resp_2', 'resp_3', 'resp_4', 'resp) - Oluseyi\n",
    " - show trends over time\n",
    "- Average number of resp per day\n",
    "- disrtibution of values\n",
    "- pair plots\n",
    "- plot correlation of 'resp_1', 'resp_2', 'resp_3', 'resp_4','resp']]"
   ]
  },
  {
   "cell_type": "code",
   "execution_count": null,
   "metadata": {},
   "outputs": [],
   "source": [
    "##"
   ]
  }
 ],
 "metadata": {
  "kernelspec": {
   "display_name": "Python 3",
   "language": "python",
   "name": "python3"
  },
  "language_info": {
   "codemirror_mode": {
    "name": "ipython",
    "version": 3
   },
   "file_extension": ".py",
   "mimetype": "text/x-python",
   "name": "python",
   "nbconvert_exporter": "python",
   "pygments_lexer": "ipython3",
   "version": "3.8.5"
  }
 },
 "nbformat": 4,
 "nbformat_minor": 4
}
